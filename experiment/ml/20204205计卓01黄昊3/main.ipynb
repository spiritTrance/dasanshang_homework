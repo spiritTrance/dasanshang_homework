{
 "cells": [
  {
   "cell_type": "markdown",
   "metadata": {},
   "source": [
    "# 导入必要的库"
   ]
  },
  {
   "cell_type": "code",
   "execution_count": 1,
   "metadata": {},
   "outputs": [],
   "source": [
    "from decisionTree import DecisionTree\n",
    "from regressionTree import RegressionTree\n",
    "from utils.Data import DataClass, DataSet, DataSpliter\n",
    "from sklearn.datasets import load_breast_cancer, load_wine\n",
    "from sklearn.tree import DecisionTreeRegressor, DecisionTreeClassifier\n",
    "from sklearn.model_selection import train_test_split\n",
    "import pandas as pd\n",
    "import numpy as np\n",
    "import logging\n",
    "logging.disable(logging.WARNING)    # 禁用 DataSet 定义的 Logging"
   ]
  },
  {
   "cell_type": "code",
   "execution_count": 2,
   "metadata": {},
   "outputs": [],
   "source": [
    "def printResult(s: str, acc, accStd, opt):\n",
    "    print(\"[{:s}] 数据集的结果为：\".format(s))\n",
    "    if opt == 0:\n",
    "        print(\"\\t自行编写的分类决策树在测试集上的准确率为：{:.4%}\".format(acc))\n",
    "        print(\"\\tsklearn的分类决策树在测试集上的准确率为：{:.4%}\".format(accStd))\n",
    "    else:\n",
    "        print(\"\\t自行编写的回归决策树在测试集上的r-square为：{:.4f}\".format(acc))\n",
    "        print(\"\\tsklearn的回归决策树在测试集上的r-square为：{:.4f}\".format(accStd))"
   ]
  },
  {
   "cell_type": "markdown",
   "metadata": {},
   "source": [
    "# Wine数据集（分类）"
   ]
  },
  {
   "cell_type": "code",
   "execution_count": 9,
   "metadata": {},
   "outputs": [
    {
     "name": "stdout",
     "output_type": "stream",
     "text": [
      "[红酒] 数据集的结果为：\n",
      "\t自行编写的分类决策树在测试集上的准确率为：86.4865%\n",
      "\tsklearn的分类决策树在测试集上的准确率为：81.0811%\n"
     ]
    }
   ],
   "source": [
    "dataset_wine = load_wine()\n",
    "feature_wine = dataset_wine.data\n",
    "label_wine = dataset_wine.target\n",
    "labelName_wine = dataset_wine.target_names\n",
    "dataset_wine = DataSet(feature_wine, label_wine)\n",
    "feature_wine, label_wine = dataset_wine.getFeatureAndLabel()\n",
    "trainFeatureSet, trainLabelSet, testFeatureSet, testLabelSet = DataSpliter.trainAndTestSetSpliter_bareData(feature_wine, label_wine, trainRatio = 0.8)\n",
    "# 实验手写的模型\n",
    "model = DecisionTree(trainFeatureSet, trainLabelSet, trainFeatureSet, trainLabelSet)\n",
    "model.buildTree(pre_prun = False, criteria = \"gini\")\n",
    "model.post_prun()\n",
    "\n",
    "tot = len(testLabelSet)\n",
    "acc = 0\n",
    "for X, y in zip(testFeatureSet, testLabelSet):\n",
    "    y_hat = model.pred(X)\n",
    "    if y == y_hat:\n",
    "        acc += 1\n",
    "accRate_experiement = acc / tot\n",
    "\n",
    "# sklearn库的模型\n",
    "model = DecisionTreeClassifier(criterion = \"gini\")\n",
    "model.fit(trainFeatureSet, trainLabelSet)\n",
    "# 评估\n",
    "tot = len(testLabelSet)\n",
    "acc = 0\n",
    "y_hat = model.predict(testFeatureSet)\n",
    "idx = (y_hat == testLabelSet)\n",
    "acc = len(testLabelSet[idx])\n",
    "accRate_std = acc / tot\n",
    "\n",
    "printResult(\"红酒\", accRate_experiement, accRate_std, opt = 0)"
   ]
  },
  {
   "cell_type": "markdown",
   "metadata": {},
   "source": [
    "# Breast_Cancer数据集（分类）"
   ]
  },
  {
   "cell_type": "code",
   "execution_count": 4,
   "metadata": {},
   "outputs": [
    {
     "name": "stdout",
     "output_type": "stream",
     "text": [
      "[癌症] 数据集的结果为：\n",
      "\t自行编写的分类决策树在测试集上的准确率为：93.0435%\n",
      "\tsklearn的分类决策树在测试集上的准确率为：90.4348%\n"
     ]
    }
   ],
   "source": [
    "dataset_breast_cancer = load_breast_cancer()\n",
    "feature_breast_cancer = dataset_breast_cancer.data\n",
    "label_breast_cancer = dataset_breast_cancer.target\n",
    "labelName_breast_cancer = dataset_breast_cancer.target_names\n",
    "title_breast_cancer = [\"sepal length in cm\", \"sepal width in cm\", \"petal length in cm\", \"petal width in cm\"]\n",
    "dataset_breast_cancer = DataSet(feature_breast_cancer, label_breast_cancer)\n",
    "feature_breast_cancer, label_breast_cancer = dataset_breast_cancer.getFeatureAndLabel()\n",
    "trainFeatureSet, trainLabelSet, testFeatureSet, testLabelSet = DataSpliter.trainAndTestSetSpliter_bareData(feature_breast_cancer, label_breast_cancer, trainRatio = 0.8)\n",
    "# 训练模型\n",
    "model = DecisionTree(trainFeatureSet, trainLabelSet, trainFeatureSet, trainLabelSet)\n",
    "model.buildTree(pre_prun = False, criteria = \"gini\")\n",
    "model.post_prun()\n",
    "# 评估\n",
    "tot = len(testLabelSet)\n",
    "acc = 0\n",
    "for X, y in zip(testFeatureSet, testLabelSet):\n",
    "    y_hat = model.pred(X)\n",
    "    if y == y_hat:\n",
    "        acc += 1\n",
    "accRate_experiement = acc / tot\n",
    "\n",
    "# sklearn库的模型\n",
    "model = DecisionTreeClassifier(criterion = \"gini\")\n",
    "model.fit(trainFeatureSet, trainLabelSet)\n",
    "# 评估\n",
    "tot = len(testLabelSet)\n",
    "acc = 0\n",
    "y_hat = model.predict(testFeatureSet)\n",
    "idx = (y_hat == testLabelSet)\n",
    "acc = len(testLabelSet[idx])\n",
    "accRate_std = acc / tot\n",
    "\n",
    "printResult(\"癌症\", accRate_experiement, accRate_std, opt = 0)"
   ]
  },
  {
   "cell_type": "markdown",
   "metadata": {},
   "source": [
    "# 波士顿房价预测（回归）"
   ]
  },
  {
   "cell_type": "code",
   "execution_count": 5,
   "metadata": {},
   "outputs": [
    {
     "name": "stdout",
     "output_type": "stream",
     "text": [
      "[波士顿] 数据集的结果为：\n",
      "\t自行编写的回归决策树在测试集上的r-square为：0.5875\n",
      "\tsklearn的回归决策树在测试集上的r-square为：0.5321\n"
     ]
    }
   ],
   "source": [
    "df = pd.read_csv(\"boston_housing_data.csv\")\n",
    "df_num = df.to_numpy()\n",
    "idx = ~np.isnan(df_num).any(axis = 1)\n",
    "df_num = df_num[idx]\n",
    "feature_boston = df_num[:, :-1]\n",
    "label_boston = df_num[:, -1]\n",
    "label_boston = label_boston.reshape(len(label_boston))\n",
    "\n",
    "dataset_boston = DataSet(feature_boston, label_boston)\n",
    "title = dataset_boston.getTitle(is_converted = False)\n",
    "feature_boston, label_boston = dataset_boston.getFeatureAndLabel()\n",
    "trainFeatureSet, trainLabelSet, testFeatureSet, testLabelSet = DataSpliter.trainAndTestSetSpliter_bareData(feature_boston, label_boston, trainRatio = 0.7)\n",
    "# 训练自建模型\n",
    "model = RegressionTree(trainFeatureSet, trainLabelSet, title, 13)\n",
    "model.build()\n",
    "R_ex = (model.getRSquare(testFeatureSet, testLabelSet, title))\n",
    "# sklearn库模型\n",
    "model2 = DecisionTreeRegressor()\n",
    "model2.fit(trainFeatureSet, trainLabelSet)\n",
    "# 评估模型\n",
    "X = testFeatureSet\n",
    "Y = testLabelSet\n",
    "y_mean = np.mean(Y)\n",
    "fenzi, fenmu = 0, 0\n",
    "for x, y in zip(X, Y):\n",
    "    y_pred = model2.predict(x.reshape(1, -1))\n",
    "    fenzi += (y_pred - y) ** 2\n",
    "    fenmu += (y - y_mean) ** 2\n",
    "R_std = (float(1 - fenzi / fenmu))\n",
    "\n",
    "printResult(\"波士顿\", R_ex, R_std, opt = 1)"
   ]
  },
  {
   "cell_type": "markdown",
   "metadata": {},
   "source": [
    "# 冰激凌数据集（回归）"
   ]
  },
  {
   "cell_type": "code",
   "execution_count": 8,
   "metadata": {},
   "outputs": [
    {
     "name": "stdout",
     "output_type": "stream",
     "text": [
      "[冰激凌] 数据集的结果为：\n",
      "\t自行编写的回归决策树在测试集上的r-square为：0.9631\n",
      "\tsklearn的回归决策树在测试集上的r-square为：0.9602\n"
     ]
    }
   ],
   "source": [
    "df = pd.read_csv(\"icecream_data.csv\")\n",
    "label_ice = df['Revenue'].to_numpy()\n",
    "feature_ice = df['Temperature'].to_numpy().reshape(len(label_ice), 1)\n",
    "\n",
    "dataset_ice = DataSet(feature_ice, label_ice)\n",
    "title = dataset_ice.getTitle(is_converted = False)\n",
    "feature_ice, label_ice = dataset_ice.getFeatureAndLabel()\n",
    "trainFeatureSet, testFeatureSet, trainLabelSet, testLabelSet = train_test_split(feature_ice, label_ice)\n",
    "# 训练自建模型\n",
    "model = RegressionTree(trainFeatureSet, trainLabelSet, title, 10)\n",
    "model.build()\n",
    "# 评估自建模型\n",
    "R_ex = (model.getRSquare(testFeatureSet, testLabelSet, title))\n",
    "# sklearn库的模型\n",
    "model2 = DecisionTreeRegressor()\n",
    "model2.fit(trainFeatureSet, trainLabelSet)\n",
    "# 评估模型\n",
    "X = testFeatureSet\n",
    "Y = testLabelSet\n",
    "y_mean = np.mean(Y)\n",
    "fenzi, fenmu = 0, 0\n",
    "for x, y in zip(X, Y):\n",
    "    y_pred = model2.predict(x.reshape(1, -1))\n",
    "    fenzi += (y_pred - y) ** 2\n",
    "    fenmu += (y - y_mean) ** 2\n",
    "R_std = (float(1 - fenzi / fenmu))\n",
    "printResult(\"冰激凌\", R_ex, R_std, opt = 1)"
   ]
  }
 ],
 "metadata": {
  "kernelspec": {
   "display_name": "Python 3.9.12 ('base')",
   "language": "python",
   "name": "python3"
  },
  "language_info": {
   "codemirror_mode": {
    "name": "ipython",
    "version": 3
   },
   "file_extension": ".py",
   "mimetype": "text/x-python",
   "name": "python",
   "nbconvert_exporter": "python",
   "pygments_lexer": "ipython3",
   "version": "3.9.12"
  },
  "vscode": {
   "interpreter": {
    "hash": "f6e095450edf6dc727570af86593c624977ad8d6622cd1b01b9c30e928676096"
   }
  }
 },
 "nbformat": 4,
 "nbformat_minor": 4
}
