{
 "cells": [
  {
   "cell_type": "code",
   "execution_count": 1,
   "metadata": {},
   "outputs": [],
   "source": [
    "from decisionTree import DecisionTree\n",
    "from utils.Data import DataClass, DataSet, DataSpliter\n",
    "from sklearn.datasets import load_iris"
   ]
  },
  {
   "cell_type": "code",
   "execution_count": 2,
   "metadata": {},
   "outputs": [
    {
     "name": "stderr",
     "output_type": "stream",
     "text": [
      "WARNING:root:未定义数据类型，非字符串数据将被标记为数值数据，字符串类型数据标记为分类数据\n"
     ]
    }
   ],
   "source": [
    "dataset_iris = load_iris()\n",
    "feature_iris = dataset_iris.data\n",
    "label_iris = dataset_iris.target\n",
    "labelName_iris = dataset_iris.target_names\n",
    "title_iris = [\"sepal length in cm\", \"sepal width in cm\", \"petal length in cm\", \"petal width in cm\"]\n",
    "dataset_iris = DataSet(feature_iris, label_iris, title_iris)\n",
    "feature_iris, label_iris = dataset_iris.getFeatureAndLabel()\n",
    "trainFeatureSet, trainLabelSet, validFeatureSet, validLabelSet, testFeatureSet, testLabelSet = DataSpliter.train_valid_testSetSplit_baredata(feature_iris, label_iris)"
   ]
  },
  {
   "cell_type": "code",
   "execution_count": 4,
   "metadata": {},
   "outputs": [
    {
     "ename": "TypeError",
     "evalue": "object of type 'NoneType' has no len()",
     "output_type": "error",
     "traceback": [
      "\u001b[1;31m---------------------------------------------------------------------------\u001b[0m",
      "\u001b[1;31mTypeError\u001b[0m                                 Traceback (most recent call last)",
      "\u001b[1;32mc:\\Users\\15781\\Desktop\\homework\\experiment\\ml\\lab3_decisionTree\\main.ipynb Cell 3\u001b[0m in \u001b[0;36m<cell line: 2>\u001b[1;34m()\u001b[0m\n\u001b[0;32m      <a href='vscode-notebook-cell:/c%3A/Users/15781/Desktop/homework/experiment/ml/lab3_decisionTree/main.ipynb#W3sZmlsZQ%3D%3D?line=0'>1</a>\u001b[0m model \u001b[39m=\u001b[39m DecisionTree(trainFeatureSet, trainLabelSet, validFeatureSet, validLabelSet)\n\u001b[1;32m----> <a href='vscode-notebook-cell:/c%3A/Users/15781/Desktop/homework/experiment/ml/lab3_decisionTree/main.ipynb#W3sZmlsZQ%3D%3D?line=1'>2</a>\u001b[0m model\u001b[39m.\u001b[39;49mbuildTree()\n",
      "File \u001b[1;32mc:\\Users\\15781\\Desktop\\homework\\experiment\\ml\\lab3_decisionTree\\decisionTree.py:174\u001b[0m, in \u001b[0;36mDecisionTree.buildTree\u001b[1;34m(self, criteria, pre_prun)\u001b[0m\n\u001b[0;32m    173\u001b[0m \u001b[39mdef\u001b[39;00m \u001b[39mbuildTree\u001b[39m(\u001b[39mself\u001b[39m, criteria \u001b[39m=\u001b[39m \u001b[39m\"\u001b[39m\u001b[39mentropy\u001b[39m\u001b[39m\"\u001b[39m, pre_prun \u001b[39m=\u001b[39m \u001b[39mFalse\u001b[39;00m):\n\u001b[1;32m--> 174\u001b[0m     \u001b[39mself\u001b[39;49m\u001b[39m.\u001b[39;49m__buildTree(\u001b[39mself\u001b[39;49m\u001b[39m.\u001b[39;49m__root, criteria \u001b[39m=\u001b[39;49m criteria, pre_prun \u001b[39m=\u001b[39;49m pre_prun)\n",
      "File \u001b[1;32mc:\\Users\\15781\\Desktop\\homework\\experiment\\ml\\lab3_decisionTree\\decisionTree.py:169\u001b[0m, in \u001b[0;36mDecisionTree.__buildTree\u001b[1;34m(self, node, criteria, pre_prun)\u001b[0m\n\u001b[0;32m    168\u001b[0m \u001b[39mdef\u001b[39;00m \u001b[39m__buildTree\u001b[39m(\u001b[39mself\u001b[39m, node: TreeNode, criteria \u001b[39m=\u001b[39m \u001b[39m\"\u001b[39m\u001b[39mentropy\u001b[39m\u001b[39m\"\u001b[39m, pre_prun \u001b[39m=\u001b[39m \u001b[39mFalse\u001b[39;00m):\n\u001b[1;32m--> 169\u001b[0m     node\u001b[39m.\u001b[39;49msplit(criteria \u001b[39m=\u001b[39;49m criteria, pre_prun \u001b[39m=\u001b[39;49m pre_prun)\n\u001b[0;32m    170\u001b[0m     \u001b[39mfor\u001b[39;00m son \u001b[39min\u001b[39;00m node\u001b[39m.\u001b[39mson:\n\u001b[0;32m    171\u001b[0m         \u001b[39mself\u001b[39m\u001b[39m.\u001b[39m__buildTree(son, criteria \u001b[39m=\u001b[39m criteria, pre_prun \u001b[39m=\u001b[39m pre_prun)\n",
      "File \u001b[1;32mc:\\Users\\15781\\Desktop\\homework\\experiment\\ml\\lab3_decisionTree\\decisionTree.py:141\u001b[0m, in \u001b[0;36mTreeNode.split\u001b[1;34m(self, criteria, pre_prun)\u001b[0m\n\u001b[0;32m    139\u001b[0m \u001b[39mif\u001b[39;00m \u001b[39mself\u001b[39m\u001b[39m.\u001b[39m__isSplitNeeded() \u001b[39m==\u001b[39m \u001b[39mFalse\u001b[39;00m:\n\u001b[0;32m    140\u001b[0m     \u001b[39mreturn\u001b[39;00m\n\u001b[1;32m--> 141\u001b[0m splitAttrIdx, splitList, pts \u001b[39m=\u001b[39m \u001b[39mself\u001b[39;49m\u001b[39m.\u001b[39;49m__findBestSplitAttr(criteria)\n\u001b[0;32m    142\u001b[0m son_validAttr \u001b[39m=\u001b[39m deepcopy(\u001b[39mself\u001b[39m\u001b[39m.\u001b[39mvalidAttr)\n\u001b[0;32m    143\u001b[0m son_validAttr[splitAttrIdx] \u001b[39m=\u001b[39m \u001b[39m0\u001b[39m\n",
      "File \u001b[1;32mc:\\Users\\15781\\Desktop\\homework\\experiment\\ml\\lab3_decisionTree\\decisionTree.py:123\u001b[0m, in \u001b[0;36mTreeNode.__findBestSplitAttr\u001b[1;34m(self, criteria)\u001b[0m\n\u001b[0;32m    121\u001b[0m \u001b[39mif\u001b[39;00m flag \u001b[39m==\u001b[39m \u001b[39m0\u001b[39m:\n\u001b[0;32m    122\u001b[0m     \u001b[39mcontinue\u001b[39;00m\n\u001b[1;32m--> 123\u001b[0m val, lst, bestPts \u001b[39m=\u001b[39m \u001b[39mself\u001b[39;49m\u001b[39m.\u001b[39;49m__split_attr_data(idx, criteria)\n\u001b[0;32m    124\u001b[0m \u001b[39mif\u001b[39;00m val \u001b[39m>\u001b[39m bestVal:\n\u001b[0;32m    125\u001b[0m     bestVal \u001b[39m=\u001b[39m val\n",
      "File \u001b[1;32mc:\\Users\\15781\\Desktop\\homework\\experiment\\ml\\lab3_decisionTree\\decisionTree.py:106\u001b[0m, in \u001b[0;36mTreeNode.__split_attr_data\u001b[1;34m(self, attrIdx, criteria)\u001b[0m\n\u001b[0;32m    104\u001b[0m     rate, idxList \u001b[39m=\u001b[39m \u001b[39mself\u001b[39m\u001b[39m.\u001b[39m__split_tag_data(attrIdx, criteria)\n\u001b[0;32m    105\u001b[0m \u001b[39melse\u001b[39;00m:\n\u001b[1;32m--> 106\u001b[0m     pts \u001b[39m=\u001b[39m \u001b[39mself\u001b[39;49m\u001b[39m.\u001b[39;49m__bestNumericalDivision(attrIdx)\n\u001b[0;32m    107\u001b[0m     rate, idxList \u001b[39m=\u001b[39m \u001b[39mself\u001b[39m\u001b[39m.\u001b[39m__split_numerical_data(attrIdx, pts, criteria)\n\u001b[0;32m    108\u001b[0m \u001b[39mif\u001b[39;00m criteria \u001b[39m==\u001b[39m \u001b[39m\"\u001b[39m\u001b[39mgini\u001b[39m\u001b[39m\"\u001b[39m:\n",
      "File \u001b[1;32mc:\\Users\\15781\\Desktop\\homework\\experiment\\ml\\lab3_decisionTree\\decisionTree.py:91\u001b[0m, in \u001b[0;36mTreeNode.__bestNumericalDivision\u001b[1;34m(self, attrIdx)\u001b[0m\n\u001b[0;32m     89\u001b[0m \u001b[39mdef\u001b[39;00m \u001b[39m__bestNumericalDivision\u001b[39m(\u001b[39mself\u001b[39m, attrIdx):         \u001b[39m# 按照信息增益的原则进行划分\u001b[39;00m\n\u001b[0;32m     90\u001b[0m     sample \u001b[39m=\u001b[39m deepcopy(\u001b[39mself\u001b[39m\u001b[39m.\u001b[39mTRX[:, attrIdx])\u001b[39m.\u001b[39msort()\n\u001b[1;32m---> 91\u001b[0m     interp \u001b[39m=\u001b[39m [(sample[i] \u001b[39m+\u001b[39m sample[i \u001b[39m+\u001b[39m \u001b[39m1\u001b[39m]) \u001b[39m/\u001b[39m \u001b[39m2\u001b[39m \u001b[39mfor\u001b[39;00m i \u001b[39min\u001b[39;00m \u001b[39mrange\u001b[39m(\u001b[39mlen\u001b[39;49m(sample) \u001b[39m-\u001b[39m \u001b[39m1\u001b[39m)]\n\u001b[0;32m     92\u001b[0m     bestPts \u001b[39m=\u001b[39m interp[\u001b[39m0\u001b[39m]\n\u001b[0;32m     93\u001b[0m     bestGain \u001b[39m=\u001b[39m \u001b[39m-\u001b[39mINF\n",
      "\u001b[1;31mTypeError\u001b[0m: object of type 'NoneType' has no len()"
     ]
    }
   ],
   "source": [
    "model = DecisionTree(trainFeatureSet, trainLabelSet, validFeatureSet, validLabelSet)\n",
    "model.buildTree()"
   ]
  }
 ],
 "metadata": {
  "kernelspec": {
   "display_name": "Python 3.9.12 ('base')",
   "language": "python",
   "name": "python3"
  },
  "language_info": {
   "codemirror_mode": {
    "name": "ipython",
    "version": 3
   },
   "file_extension": ".py",
   "mimetype": "text/x-python",
   "name": "python",
   "nbconvert_exporter": "python",
   "pygments_lexer": "ipython3",
   "version": "3.9.12"
  },
  "orig_nbformat": 4,
  "vscode": {
   "interpreter": {
    "hash": "f6e095450edf6dc727570af86593c624977ad8d6622cd1b01b9c30e928676096"
   }
  }
 },
 "nbformat": 4,
 "nbformat_minor": 2
}
