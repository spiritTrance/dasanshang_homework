{
 "cells": [
  {
   "cell_type": "markdown",
   "metadata": {},
   "source": [
    "# 相关库导入"
   ]
  },
  {
   "cell_type": "markdown",
   "metadata": {},
   "source": [
    "**导入相关库及自己写的logistic模型和DataSet类**"
   ]
  },
  {
   "cell_type": "code",
   "execution_count": 1,
   "metadata": {},
   "outputs": [],
   "source": [
    "from logistic import Logistic\n",
    "from utils.Data import DataClass, DataSet, DataSpliter\n",
    "import numpy as np\n",
    "from sklearn.datasets import load_iris\n",
    "import logging\n",
    "from matplotlib import pyplot as plt\n",
    "logging.disable(logging.WARNING)    # 禁用 DataSet 定义的 Logging"
   ]
  },
  {
   "cell_type": "markdown",
   "metadata": {},
   "source": [
    "# 西瓜数据集"
   ]
  },
  {
   "cell_type": "markdown",
   "metadata": {},
   "source": [
    "- 基本数据"
   ]
  },
  {
   "cell_type": "code",
   "execution_count": 4,
   "metadata": {},
   "outputs": [],
   "source": [
    "feature=[[\"青绿\",\"蜷缩\",\"浊响\",\"清晰\",\"凹陷\",\"硬滑\",0.697,0.46],\n",
    "            [\"乌黑\",\"蜷缩\",\"沉闷\",\"清晰\",\"凹陷\",\"硬滑\",0.774,0.376],\n",
    "            [\"乌黑\",\"蜷缩\",\"浊响\",\"清晰\",\"凹陷\",\"硬滑\",0.634,0.264],\n",
    "            [\"青绿\",\"蜷缩\",\"沉闷\",\"清晰\",\"凹陷\",\"硬滑\",0.608,0.318],\n",
    "            [\"浅白\",\"蜷缩\",\"浊响\",\"清晰\",\"凹陷\",\"硬滑\",0.556,0.215],\n",
    "            [\"青绿\",\"稍蜷\",\"浊响\",\"清晰\",\"稍凹\",\"软粘\",0.403,0.237],\n",
    "            [\"乌黑\",\"稍蜷\",\"浊响\",\"稍糊\",\"稍凹\",\"软粘\",0.481,0.149],\n",
    "            [\"乌黑\",\"稍蜷\",\"浊响\",\"清晰\",\"稍凹\",\"硬滑\",0.437,0.211],\n",
    "            [\"乌黑\",\"稍蜷\",\"沉闷\",\"稍糊\",\"稍凹\",\"硬滑\",0.666,0.091],\n",
    "            [\"青绿\",\"硬挺\",\"清脆\",\"清晰\",\"平坦\",\"软粘\",0.243,0.267],\n",
    "            [\"浅白\",\"硬挺\",\"清脆\",\"模糊\",\"平坦\",\"硬滑\",0.245,0.057],\n",
    "            [\"浅白\",\"蜷缩\",\"浊响\",\"模糊\",\"平坦\",\"软粘\",0.343,0.099],\n",
    "            [\"青绿\",\"稍蜷\",\"浊响\",\"稍糊\",\"凹陷\",\"硬滑\",0.639,0.161],\n",
    "            [\"浅白\",\"稍蜷\",\"沉闷\",\"稍糊\",\"凹陷\",\"硬滑\",0.657,0.198],\n",
    "            [\"乌黑\",\"稍蜷\",\"浊响\",\"清晰\",\"稍凹\",\"软粘\",0.36,0.37],\n",
    "            [\"浅白\",\"蜷缩\",\"浊响\",\"模糊\",\"平坦\",\"硬滑\",0.593,0.042],\n",
    "            [\"青绿\",\"蜷缩\",\"沉闷\",\"稍糊\",\"稍凹\",\"硬滑\",0.719,0.103]]\n",
    "label=[1,1,1,1,1,1,1,1,0,0,0,0,0,0,0,0,0]\n",
    "feature_title=[\"色泽\",\"根蒂\",\"敲声\",\"纹理\",\"脐部\",\"触感\",\"密度\",\"含糖率\"]\n",
    "ITER_NUM = 1000     # 迭代次数"
   ]
  },
  {
   "cell_type": "markdown",
   "metadata": {},
   "source": [
    "- 数据预处理"
   ]
  },
  {
   "cell_type": "code",
   "execution_count": 5,
   "metadata": {},
   "outputs": [],
   "source": [
    "feature = np.array(feature, dtype=object)\n",
    "label = np.array(label, dtype=object)\n",
    "dataset_watermelon = DataSet(feature,label,feature_title,labelConvert = False)    # 制作数据集\n",
    "feature_watermelon, label_watermelon = dataset_watermelon.getFeatureAndLabel(is_converted = True)\n",
    "title_watermelon = dataset_watermelon.getTitle(is_converted=True)"
   ]
  },
  {
   "cell_type": "markdown",
   "metadata": {},
   "source": [
    "**模型训练及评估**"
   ]
  },
  {
   "cell_type": "code",
   "execution_count": 6,
   "metadata": {},
   "outputs": [
    {
     "name": "stdout",
     "output_type": "stream",
     "text": [
      "西瓜数据集上的训练轮数为：1000，分类正确率为：94.12%\n"
     ]
    }
   ],
   "source": [
    "model_watermelon = Logistic(feature_watermelon, label_watermelon)       # Logistic模型构建\n",
    "model_watermelon.optimize(lr = 0.3, iter_num = ITER_NUM, method=\"gd\")   # Logistic模型训练\n",
    "acc = model_watermelon.eval(feature_watermelon, label_watermelon)\n",
    "print(\"西瓜数据集上的训练轮数为：{:d}，分类正确率为：{:.2%}\".format(ITER_NUM, acc))"
   ]
  },
  {
   "cell_type": "markdown",
   "metadata": {},
   "source": [
    "**Loss曲线绘制**"
   ]
  },
  {
   "cell_type": "code",
   "execution_count": 7,
   "metadata": {},
   "outputs": [
    {
     "data": {
      "image/png": "[encoded data removed]",
      "text/plain": [
       "<Figure size 432x288 with 1 Axes>"
      ]
     },
     "metadata": {
      "needs_background": "light"
     },
     "output_type": "display_data"
    }
   ],
   "source": [
    "lst = model_watermelon.getLossRec()\n",
    "plt.plot(lst,'-y*')\n",
    "plt.title(\"Loss curve\")\n",
    "plt.show()"
   ]
  },
  {
   "cell_type": "markdown",
   "metadata": {},
   "source": [
    "# 鸢尾花数据集"
   ]
  },
  {
   "cell_type": "markdown",
   "metadata": {},
   "source": [
    "**数据读取**"
   ]
  },
  {
   "cell_type": "code",
   "execution_count": 8,
   "metadata": {},
   "outputs": [],
   "source": [
    "ITER_NUM = 1000\n",
    "dataset_iris = load_iris()\n",
    "feature_iris = dataset_iris.data\n",
    "label_iris = dataset_iris.target\n",
    "labelName_iris = dataset_iris.target_names\n",
    "title_iris = [\"sepal length in cm\", \"sepal width in cm\", \"petal length in cm\", \"petal width in cm\"]"
   ]
  },
  {
   "cell_type": "markdown",
   "metadata": {},
   "source": [
    "**数据预处理**"
   ]
  },
  {
   "cell_type": "code",
   "execution_count": 9,
   "metadata": {},
   "outputs": [],
   "source": [
    "dataset_iris = DataSet(feature_iris, label_iris, title_iris)\n",
    "feature_iris, label_iris = dataset_iris.getFeatureAndLabel()\n",
    "trainFeatureSet, trainLabelSet, testFeatureSet, testLabelSet = DataSpliter.trainAndTestSetSpliter_bareData(feature_iris, label_iris, is_shuffle = True, trainRatio = 0.7)\n",
    "indexOfLabel0_1 = abs(trainLabelSet.reshape(len(trainLabelSet,)) - 0.5) < 0.5 + 1e-6            # 将对应类别的数据下标提取出来\n",
    "indexOfLabel0_2 = abs(trainLabelSet.reshape(len(trainLabelSet,)) - 1) > 1 - 1e-6                \n",
    "indexOfLabel1_2 = abs(trainLabelSet.reshape(len(trainLabelSet,)) - 1.5) < 0.5 + 1e-6            \n",
    "trainLabelSet0_1 = trainLabelSet[indexOfLabel0_1]   # 根据类别筛选样本，对三个分类器筛选出三组数据\n",
    "trainLabelSet0_2 = trainLabelSet[indexOfLabel0_2]\n",
    "trainLabelSet1_2 = trainLabelSet[indexOfLabel1_2]\n",
    "trainFeatureSet0_1 = trainFeatureSet[indexOfLabel0_1]\n",
    "trainFeatureSet0_2 = trainFeatureSet[indexOfLabel0_2]\n",
    "trainFeatureSet1_2 = trainFeatureSet[indexOfLabel1_2]\n",
    "mapping_0 = {0:1, 1:0, 2:0} # 0 作为正例\n",
    "mapping_1 = {0:0, 1:1, 2:0} # 1 作为正例\n",
    "mapping_2 = {0:0, 1:0, 2:1} # 2 作为正例\n",
    "\n",
    "def convertMapping(label, mapping):     # 标记正反例\n",
    "    for idx, val in enumerate(label):\n",
    "        val = int(val)\n",
    "        label[idx] = mapping[val]\n",
    "    return label\n",
    "\n",
    "trainLabelSet0_1 = convertMapping(trainLabelSet0_1, mapping_1)  # 将 0 转成 0（反例），1 转成 1（正例）\n",
    "trainLabelSet0_2 = convertMapping(trainLabelSet0_2, mapping_2)  # 将 0 转成 0（反例），2 转成 1（正例）\n",
    "trainLabelSet1_2 = convertMapping(trainLabelSet1_2, mapping_2)  # 将 1 转成 0（反例），2 转成 1（正例）"
   ]
  },
  {
   "cell_type": "markdown",
   "metadata": {},
   "source": [
    "**模型构建及训练**"
   ]
  },
  {
   "cell_type": "code",
   "execution_count": 14,
   "metadata": {},
   "outputs": [
    {
     "name": "stdout",
     "output_type": "stream",
     "text": [
      "鸢尾花数据集上的训练轮数为：1000，训练集上的分类正确率为：95.56%\n"
     ]
    }
   ],
   "source": [
    "# OvO多分类策略 构建三组Logistic分类器\n",
    "model_iris_0_1 = Logistic(trainFeatureSet0_1, trainLabelSet0_1)\n",
    "model_iris_0_2 = Logistic(trainFeatureSet0_2, trainLabelSet0_2)\n",
    "model_iris_1_2 = Logistic(trainFeatureSet1_2, trainLabelSet1_2)\n",
    "# 模型训练\n",
    "OvR_LR = 0.05       # 学习率\n",
    "model_iris_0_1.optimize(iter_num = ITER_NUM, lr = OvR_LR, method = \"gd\")\n",
    "model_iris_0_2.optimize(iter_num = ITER_NUM, lr = OvR_LR, method = \"gd\")\n",
    "model_iris_1_2.optimize(iter_num = ITER_NUM, lr = OvR_LR, method = \"gd\")\n",
    "# 获取训练集准确率\n",
    "acc_0 = model_iris_0_1.eval(trainFeatureSet, trainLabelSet0_1)\n",
    "acc_1 = model_iris_0_2.eval(trainFeatureSet, trainLabelSet0_2)\n",
    "acc_2 = model_iris_1_2.eval(trainFeatureSet, trainLabelSet1_2)\n",
    "acc_search = [(acc_0, 0), (acc_1, 1), (acc_2, 2)]\n",
    "acc_search.sort(key = lambda x: x[0], reverse = True)   # 按照准确率从大到小排列，后续扫描从准确率大的开始比对\n",
    "# 开始进行预测\n",
    "acc = 0\n",
    "tot = len(testLabelSet)\n",
    "modelLst = [model_iris_0_1, model_iris_0_2, model_iris_1_2]\n",
    "for X, y in zip(testFeatureSet, testLabelSet):\n",
    "    y = int(y)\n",
    "    pred = [md.pred(X) for md in modelLst]\n",
    "    pred[0] = 0 if pred[0] == 0 else 1\n",
    "    pred[1] = 0 if pred[1] == 0 else 2\n",
    "    pred[2] = 1 if pred[2] == 0 else 2\n",
    "    rec = [0, 0, 0]\n",
    "    for i in pred:\n",
    "        rec[i] += 1\n",
    "    if np.argmax(rec) == y:\n",
    "        acc += 1\n",
    "print(\"鸢尾花数据集上的训练轮数为：{:d}，训练集上的分类正确率为：{:.2%}\".format(ITER_NUM, acc / tot))"
   ]
  },
  {
   "cell_type": "markdown",
   "metadata": {},
   "source": [
    "**Loss curve绘制**"
   ]
  },
  {
   "cell_type": "code",
   "execution_count": 16,
   "metadata": {},
   "outputs": [
    {
     "data": {
      "image/png": "[encoded data removed]",
      "text/plain": [
       "<Figure size 1440x864 with 3 Axes>"
      ]
     },
     "metadata": {
      "needs_background": "light"
     },
     "output_type": "display_data"
    }
   ],
   "source": [
    "loss_0 = model_iris_0_1.getLossRec()\n",
    "loss_1 = model_iris_0_2.getLossRec()\n",
    "loss_2 = model_iris_1_2.getLossRec()\n",
    "plt.subplot(1,3,1)\n",
    "plt.plot(loss_0)\n",
    "plt.title(\"Loss curve of classifier between class 0 and class 1\")\n",
    "plt.subplot(1,3,2)\n",
    "plt.plot(loss_1)\n",
    "plt.title(\"Loss curve of classifier between class 0 and class 2\")\n",
    "plt.subplot(1,3,3)\n",
    "plt.plot(loss_2)\n",
    "plt.title(\"Loss curve of classifier between class 1 and class 2\")\n",
    "plt.rcParams['figure.figsize'] = (20.0, 12.0)\n",
    "plt.show()"
   ]
  }
 ],
 "metadata": {
  "kernelspec": {
   "display_name": "python-3.7.10",
   "language": "python",
   "name": "python-3.7.10"
  },
  "language_info": {
   "codemirror_mode": {
    "name": "ipython",
    "version": 3
   },
   "file_extension": ".py",
   "mimetype": "text/x-python",
   "name": "python",
   "nbconvert_exporter": "python",
   "pygments_lexer": "ipython3",
   "version": "3.7.10"
  },
  "vscode": {
   "interpreter": {
    "hash": "f6e095450edf6dc727570af86593c624977ad8d6622cd1b01b9c30e928676096"
   }
  }
 },
 "nbformat": 4,
 "nbformat_minor": 4
}
