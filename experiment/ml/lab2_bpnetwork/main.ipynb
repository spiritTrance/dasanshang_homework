{
 "cells": [
  {
   "cell_type": "markdown",
   "metadata": {},
   "source": [
    "# 导入相关库"
   ]
  },
  {
   "cell_type": "code",
   "execution_count": 1,
   "metadata": {},
   "outputs": [],
   "source": [
    "from MLP import MLP\n",
    "import sklearn\n",
    "from utils.Data import DataClass, DataSet, DataSpliter\n",
    "import numpy as np\n",
    "from sklearn.datasets import load_iris, load_wine   # 注意是导入的数据集\n",
    "import logging\n",
    "from matplotlib import pyplot as plt\n",
    "logging.disable(logging.WARNING)    # 禁用 DataSet 定义的 Logging\n",
    "from time import time"
   ]
  },
  {
   "cell_type": "markdown",
   "metadata": {},
   "source": [
    "- 设置打印结果的函数"
   ]
  },
  {
   "cell_type": "code",
   "execution_count": 2,
   "metadata": {},
   "outputs": [],
   "source": [
    "def trainResultPrint(dataSetName: str, trainingTime: int, trainacc: float, testacc: float, lr: float, epochNum: int):\n",
    "    print(\" * {:s} 数据集的训练结果：\".format(dataSetName))\n",
    "    print(\"    - 训练时长为:          {:.2f} s\".format(trainingTime))\n",
    "    print(\"    - 迭代总次数为:        {:d} \".format(epochNum))\n",
    "    print(\"    - 学习率为:            {:.6f} \".format(lr))\n",
    "    print(\"    - 训练集上的准确率为:  {:.2%} \".format(trainacc))\n",
    "    print(\"    - 测试集上的准确率为:  {:.2%} \".format(testacc))\n",
    "    print()"
   ]
  },
  {
   "cell_type": "markdown",
   "metadata": {},
   "source": [
    "# 鸢尾花数据集\n",
    "- 导入鸢尾花数据集"
   ]
  },
  {
   "cell_type": "code",
   "execution_count": 3,
   "metadata": {},
   "outputs": [],
   "source": [
    "dataset_iris = load_iris()\n",
    "feature_iris = dataset_iris.data\n",
    "label_iris = dataset_iris.target\n",
    "labelName_iris = dataset_iris.target_names\n",
    "title_iris = [\"sepal length in cm\", \"sepal width in cm\", \"petal length in cm\", \"petal width in cm\"]"
   ]
  },
  {
   "cell_type": "markdown",
   "metadata": {},
   "source": [
    "- 构建，划分数据集"
   ]
  },
  {
   "cell_type": "code",
   "execution_count": 4,
   "metadata": {},
   "outputs": [],
   "source": [
    "dataset_iris = DataSet(feature_iris, label_iris, title_iris)\n",
    "feature_iris, label_iris = dataset_iris.getFeatureAndLabel()\n",
    "trainFeatureSet, trainLabelSet, testFeatureSet, testLabelSet = DataSpliter.trainAndTestSetSpliter_bareData(feature_iris, label_iris)"
   ]
  },
  {
   "cell_type": "markdown",
   "metadata": {},
   "source": [
    "- 构建模型"
   ]
  },
  {
   "cell_type": "code",
   "execution_count": 5,
   "metadata": {},
   "outputs": [
    {
     "name": "stdout",
     "output_type": "stream",
     "text": [
      " + 当前是第 1000 次迭代\n",
      " + 当前是第 2000 次迭代\n",
      " + 当前是第 3000 次迭代\n",
      " + 当前是第 4000 次迭代\n",
      " + 当前是第 5000 次迭代\n"
     ]
    }
   ],
   "source": [
    "st = time()\n",
    "md = MLP(n_input = 4, n_hidden = 30, n_output = 3)\n",
    "lr = 0.001\n",
    "epochNum = 5000\n",
    "md.optimize(trainFeatureSet, trainLabelSet, epochNum = epochNum, lr = lr, decay = \"none\", printMsg = True)\n",
    "acc_train = md.eval(trainFeatureSet, trainLabelSet)\n",
    "acc_test = md.eval(testFeatureSet, testLabelSet)\n",
    "ed = time()"
   ]
  },
  {
   "cell_type": "markdown",
   "metadata": {},
   "source": [
    "- 训练结果"
   ]
  },
  {
   "cell_type": "code",
   "execution_count": 6,
   "metadata": {},
   "outputs": [
    {
     "name": "stdout",
     "output_type": "stream",
     "text": [
      " * 鸢尾花 数据集的训练结果：\n",
      "    - 训练时长为:          14.61 s\n",
      "    - 迭代总次数为:        5000 \n",
      "    - 学习率为:            0.001000 \n",
      "    - 训练集上的准确率为:  98.10% \n",
      "    - 测试集上的准确率为:  95.56% \n",
      "\n"
     ]
    }
   ],
   "source": [
    "trainResultPrint(\"鸢尾花\", ed - st, acc_train, acc_test, lr, epochNum)"
   ]
  },
  {
   "cell_type": "markdown",
   "metadata": {},
   "source": [
    "均方损失曲线"
   ]
  },
  {
   "cell_type": "code",
   "execution_count": 7,
   "metadata": {},
   "outputs": [
    {
     "data": {
      "image/png": "[encoded data removed]",
      "text/plain": [
       "<Figure size 432x288 with 1 Axes>"
      ]
     },
     "metadata": {
      "needs_background": "light"
     },
     "output_type": "display_data"
    }
   ],
   "source": [
    "y_iris = md.getTrainLoss()\n",
    "plt.plot(y_iris)\n",
    "plt.title(\"MSELoss curve\")\n",
    "plt.rcParams['figure.figsize'] = (20.0, 12.0)\n",
    "plt.show()"
   ]
  },
  {
   "cell_type": "markdown",
   "metadata": {},
   "source": [
    "# 红酒数据集\n",
    "- 读取数据"
   ]
  },
  {
   "cell_type": "code",
   "execution_count": 8,
   "metadata": {},
   "outputs": [],
   "source": [
    "dataset_wine = load_wine()\n",
    "feature_wine = dataset_wine.data\n",
    "label_wine = dataset_wine.target\n",
    "labelName_wine = dataset_wine.target_names\n",
    "title_wine = [\"Alcohol\", \"Malic acid\", \"Ash\", \"Alcalinity of ash\", \"Magnesium\", \"Total phenols\", \"Flavanoids\", \"Nonflavanoid phenols\", \"Proanthocyanins\", \"Color intensity\", \"Hue\", \"OD280/OD315 of diluted wines\", \"Proline\"]"
   ]
  },
  {
   "cell_type": "markdown",
   "metadata": {},
   "source": [
    "- 构建数据集，划分数据"
   ]
  },
  {
   "cell_type": "code",
   "execution_count": 9,
   "metadata": {},
   "outputs": [],
   "source": [
    "dataset_wine = DataSet(feature_wine, label_wine, title_wine)\n",
    "dataset_wine.rescaling()\n",
    "feature_wine, label_wine = dataset_wine.getFeatureAndLabel()\n",
    "trainFeatureSet, trainLabelSet, testFeatureSet, testLabelSet = DataSpliter.trainAndTestSetSpliter_bareData(feature_wine, label_wine, trainRatio = 0.7)"
   ]
  },
  {
   "cell_type": "markdown",
   "metadata": {},
   "source": [
    "- 模型训练"
   ]
  },
  {
   "cell_type": "code",
   "execution_count": 10,
   "metadata": {},
   "outputs": [
    {
     "name": "stdout",
     "output_type": "stream",
     "text": [
      " + 当前是第 1000 次迭代\n",
      " + 当前是第 2000 次迭代\n",
      " + 当前是第 3000 次迭代\n",
      " + 当前是第 4000 次迭代\n",
      " + 当前是第 5000 次迭代\n"
     ]
    }
   ],
   "source": [
    "st = time()\n",
    "md = MLP(n_input = 13, n_hidden = 50, n_output = 3)\n",
    "lr = 0.0001\n",
    "epochNum = 5000\n",
    "md.optimize(trainFeatureSet, trainLabelSet, epochNum = 5000, lr = 0.0001, decay = \"none\", printMsg = True)\n",
    "acc = md.eval(testFeatureSet, testLabelSet)\n",
    "ed = time()\n",
    "trainacc = md.eval(trainFeatureSet, trainLabelSet)\n",
    "testacc = md.eval(testFeatureSet, testLabelSet)"
   ]
  },
  {
   "cell_type": "markdown",
   "metadata": {},
   "source": [
    "- 训练结果"
   ]
  },
  {
   "cell_type": "code",
   "execution_count": 11,
   "metadata": {},
   "outputs": [
    {
     "name": "stdout",
     "output_type": "stream",
     "text": [
      " * 红酒(UCI) 数据集的训练结果：\n",
      "    - 训练时长为:          32.39 s\n",
      "    - 迭代总次数为:        5000 \n",
      "    - 学习率为:            0.000100 \n",
      "    - 训练集上的准确率为:  100.00% \n",
      "    - 测试集上的准确率为:  98.18% \n",
      "\n"
     ]
    }
   ],
   "source": [
    "trainResultPrint(\"红酒(UCI)\", ed - st, trainacc, testacc, lr, epochNum)"
   ]
  },
  {
   "cell_type": "markdown",
   "metadata": {},
   "source": [
    "- 损失曲线"
   ]
  },
  {
   "cell_type": "code",
   "execution_count": 12,
   "metadata": {},
   "outputs": [
    {
     "data": {
      "image/png": "[encoded data removed]",
      "text/plain": [
       "<Figure size 1440x864 with 1 Axes>"
      ]
     },
     "metadata": {
      "needs_background": "light"
     },
     "output_type": "display_data"
    }
   ],
   "source": [
    "y_wine = md.getTrainLoss()\n",
    "plt.plot(y_wine)\n",
    "plt.rcParams['figure.figsize'] = (20.0, 12.0)\n",
    "plt.show()"
   ]
  }
 ],
 "metadata": {
  "kernelspec": {
   "display_name": "Python 3.9.12 ('base')",
   "language": "python",
   "name": "python3"
  },
  "language_info": {
   "codemirror_mode": {
    "name": "ipython",
    "version": 3
   },
   "file_extension": ".py",
   "mimetype": "text/x-python",
   "name": "python",
   "nbconvert_exporter": "python",
   "pygments_lexer": "ipython3",
   "version": "3.9.12"
  },
  "orig_nbformat": 4,
  "vscode": {
   "interpreter": {
    "hash": "f6e095450edf6dc727570af86593c624977ad8d6622cd1b01b9c30e928676096"
   }
  }
 },
 "nbformat": 4,
 "nbformat_minor": 2
}
